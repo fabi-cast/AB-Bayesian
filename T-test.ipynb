{
 "cells": [
  {
   "cell_type": "markdown",
   "metadata": {},
   "source": [
    "# T-test: From scratch and in-built way\n",
    "\n",
    "Imagine we are running a A/B testing. Our data is extracted from a population which is normally distributed and each one of our samples have the same size N= 30. Our group A is normally distributed with mean 2 and variance 1 and our group B have a standard normal distribution. \n",
    "\n",
    "Suppose that we want to test the following hypothesis:\n",
    "\n",
    "$$ H_0 : \\bar{\\mu_A} = \\bar{\\mu_B}$$\n",
    "\n"
   ]
  },
  {
   "cell_type": "markdown",
   "metadata": {},
   "source": [
    "$$ H_1 : \\bar{\\mu_A} \\neq \\bar{\\mu_B}$$\n",
    "\n",
    "Where $\\bar{\\mu_i}$ represents the mean of the group $i$.  If we set a level of significance $\\alpha= 0.05$, should we reject the null hypothesis?\n",
    "\n",
    "Just for comprehend what is going on behind scenes, we will compute the two-sided t-statistic and p-value form scratch and using in-built functions in scipy from two groups which are i.i.d."
   ]
  },
  {
   "cell_type": "code",
   "execution_count": 1,
   "metadata": {},
   "outputs": [],
   "source": [
    "import numpy as np\n",
    "from scipy import stats"
   ]
  },
  {
   "cell_type": "markdown",
   "metadata": {},
   "source": [
    "We are going to generate some random data which will represent values of random variables normally distributive with mean 2 in group A and mean 0 in group B. Both samples samples will have variance 1."
   ]
  },
  {
   "cell_type": "code",
   "execution_count": 2,
   "metadata": {},
   "outputs": [],
   "source": [
    "N = 30\n",
    "a = np.random.randn(N) + 2\n",
    "b = np.random.randn(N)"
   ]
  },
  {
   "cell_type": "code",
   "execution_count": 3,
   "metadata": {},
   "outputs": [],
   "source": [
    "# degrees of freedom = 1 because we are considering sample standard deviations\n",
    "var_a = a.var(ddof = 1)\n",
    "var_b = b.var(ddof = 1)\n",
    "\n",
    "# pooled standard deviation\n",
    "s = np.sqrt((var_a + var_b)/2)"
   ]
  },
  {
   "cell_type": "markdown",
   "metadata": {},
   "source": [
    "Finally we can compute the two-sided t-statistic as we have unknown means and known and equal variances and our population is normally distributed:"
   ]
  },
  {
   "cell_type": "code",
   "execution_count": 4,
   "metadata": {},
   "outputs": [],
   "source": [
    "t = (a.mean() -b.mean())/ (s * np.sqrt(2/N))"
   ]
  },
  {
   "cell_type": "markdown",
   "metadata": {},
   "source": [
    "Now we will calculate the degrees of freedom:"
   ]
  },
  {
   "cell_type": "code",
   "execution_count": 5,
   "metadata": {},
   "outputs": [],
   "source": [
    "df = 2* N -2"
   ]
  },
  {
   "cell_type": "markdown",
   "metadata": {},
   "source": [
    "And finally we can compute the p-value:"
   ]
  },
  {
   "cell_type": "code",
   "execution_count": 6,
   "metadata": {},
   "outputs": [
    {
     "name": "stdout",
     "output_type": "stream",
     "text": [
      "t-statistic: 6.1482039131818755\n",
      "p-value: 7.754518538405364e-08\n"
     ]
    }
   ],
   "source": [
    "#computing cdf for t-distribution with 2*N-2 degrees of freedom at value t\n",
    "\n",
    "p = 1 - stats.t.cdf(t, df= df)\n",
    "\n",
    "print(\"t-statistic: {}\".format(t))\n",
    "\n",
    "print(\"p-value: {}\".format(2*p))"
   ]
  },
  {
   "cell_type": "markdown",
   "metadata": {},
   "source": [
    "Now we will compute the same using the p in-built function in python:"
   ]
  },
  {
   "cell_type": "code",
   "execution_count": 7,
   "metadata": {},
   "outputs": [
    {
     "name": "stdout",
     "output_type": "stream",
     "text": [
      "t-statistic: 6.148203913181875\n",
      "p-value: 7.754518546132632e-08\n"
     ]
    }
   ],
   "source": [
    "t2 , p2 = stats.ttest_ind(a, b)\n",
    "\n",
    "print(\"t-statistic: {}\".format(t2))\n",
    "\n",
    "print(\"p-value: {}\".format(p2))"
   ]
  },
  {
   "cell_type": "markdown",
   "metadata": {},
   "source": [
    "As $p << 0.05$, we have that there is a high probability of having difference in the means of groups A and B. Under this basis, we can reject the null hypothesis $H_0$ in this case."
   ]
  }
 ],
 "metadata": {
  "kernelspec": {
   "display_name": "Python 3",
   "language": "python",
   "name": "python3"
  },
  "language_info": {
   "codemirror_mode": {
    "name": "ipython",
    "version": 3
   },
   "file_extension": ".py",
   "mimetype": "text/x-python",
   "name": "python",
   "nbconvert_exporter": "python",
   "pygments_lexer": "ipython3",
   "version": "3.7.4"
  }
 },
 "nbformat": 4,
 "nbformat_minor": 4
}
