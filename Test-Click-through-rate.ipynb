{
 "cells": [
  {
   "cell_type": "markdown",
   "metadata": {},
   "source": [
    "# Click through rate case: T-test vs $\\chi^2$-test\n",
    "\n",
    "We will purposely apply a t-test in CTR data to see how it works in this situation.\n",
    "\n",
    "After running an experiment in which we have presented two versions of an advertisement, we are interested in determining if one advertisement is better (in a statistically significanct sense) than another.\n",
    "\n",
    "First, let us import some libraries and load the data set:"
   ]
  },
  {
   "cell_type": "code",
   "execution_count": 1,
   "metadata": {},
   "outputs": [],
   "source": [
    "import pandas as pd\n",
    "import numpy as np\n",
    "import matplotlib.pyplot as plt\n",
    "from scipy import stats\n",
    "from scipy.stats import chi2, chi2_contingency\n"
   ]
  },
  {
   "cell_type": "code",
   "execution_count": 2,
   "metadata": {},
   "outputs": [],
   "source": [
    "df = pd.read_csv(\"data/advertisement_clicks.csv\")"
   ]
  },
  {
   "cell_type": "code",
   "execution_count": 3,
   "metadata": {},
   "outputs": [
    {
     "data": {
      "text/html": [
       "<div>\n",
       "<style scoped>\n",
       "    .dataframe tbody tr th:only-of-type {\n",
       "        vertical-align: middle;\n",
       "    }\n",
       "\n",
       "    .dataframe tbody tr th {\n",
       "        vertical-align: top;\n",
       "    }\n",
       "\n",
       "    .dataframe thead th {\n",
       "        text-align: right;\n",
       "    }\n",
       "</style>\n",
       "<table border=\"1\" class=\"dataframe\">\n",
       "  <thead>\n",
       "    <tr style=\"text-align: right;\">\n",
       "      <th></th>\n",
       "      <th>advertisement_id</th>\n",
       "      <th>action</th>\n",
       "    </tr>\n",
       "  </thead>\n",
       "  <tbody>\n",
       "    <tr>\n",
       "      <td>0</td>\n",
       "      <td>B</td>\n",
       "      <td>1</td>\n",
       "    </tr>\n",
       "    <tr>\n",
       "      <td>1</td>\n",
       "      <td>B</td>\n",
       "      <td>1</td>\n",
       "    </tr>\n",
       "    <tr>\n",
       "      <td>2</td>\n",
       "      <td>A</td>\n",
       "      <td>0</td>\n",
       "    </tr>\n",
       "    <tr>\n",
       "      <td>3</td>\n",
       "      <td>B</td>\n",
       "      <td>0</td>\n",
       "    </tr>\n",
       "    <tr>\n",
       "      <td>4</td>\n",
       "      <td>A</td>\n",
       "      <td>1</td>\n",
       "    </tr>\n",
       "  </tbody>\n",
       "</table>\n",
       "</div>"
      ],
      "text/plain": [
       "  advertisement_id  action\n",
       "0                B       1\n",
       "1                B       1\n",
       "2                A       0\n",
       "3                B       0\n",
       "4                A       1"
      ]
     },
     "execution_count": 3,
     "metadata": {},
     "output_type": "execute_result"
    }
   ],
   "source": [
    "df.head()"
   ]
  },
  {
   "cell_type": "code",
   "execution_count": 4,
   "metadata": {},
   "outputs": [
    {
     "data": {
      "text/plain": [
       "(2000, 2)"
      ]
     },
     "execution_count": 4,
     "metadata": {},
     "output_type": "execute_result"
    }
   ],
   "source": [
    "df.shape"
   ]
  },
  {
   "cell_type": "markdown",
   "metadata": {},
   "source": [
    "The first column represents the version of advertisement we placed on-line: versions A or B. The second column represents the action users did: 1 represents click and 0 no-click for each one of the impressions.\n",
    "\n",
    "First we should check whether the impressions we collected coming from versions A and B are equal in number."
   ]
  },
  {
   "cell_type": "code",
   "execution_count": 5,
   "metadata": {},
   "outputs": [
    {
     "data": {
      "text/plain": [
       "A    1000\n",
       "B    1000\n",
       "Name: advertisement_id, dtype: int64"
      ]
     },
     "execution_count": 5,
     "metadata": {},
     "output_type": "execute_result"
    }
   ],
   "source": [
    "df.advertisement_id.value_counts()"
   ]
  },
  {
   "cell_type": "markdown",
   "metadata": {},
   "source": [
    "So, N = 1000. We know that the **CRT action is a random variable with Bernoulli distribution** and parameter p = 0.5. So in this case our variance is 0.5 as well. In this setting we don't fulfill the conditions for applying a t-test which require normal distributions. Still, we first will perform this test to see what conclusion we derive from it. \n",
    "\n",
    "As we want to maximize CRT the version which performs better this action will \"win\". So, we can write our hypothesis system as follow:"
   ]
  },
  {
   "cell_type": "markdown",
   "metadata": {},
   "source": [
    "$$ H_0: CRT_A = CRT_B $$\n",
    "\n",
    "$$ H_1: CRT_A\\neq CRT_B$$"
   ]
  },
  {
   "cell_type": "markdown",
   "metadata": {},
   "source": [
    "Remember that $CRT_A = \\frac{1}{1000} \\sum (X_i)$ where $ X_i\\cong Bernoulli(0.5)$."
   ]
  },
  {
   "cell_type": "markdown",
   "metadata": {},
   "source": [
    "First, let us isolate the data coming from groups A and B and find the means of the samples:"
   ]
  },
  {
   "cell_type": "code",
   "execution_count": 6,
   "metadata": {},
   "outputs": [
    {
     "name": "stdout",
     "output_type": "stream",
     "text": [
      "A_mean = 0.304\n",
      "B_mean = 0.372\n"
     ]
    }
   ],
   "source": [
    "a = df[df['advertisement_id'] == 'A'][\"action\"]\n",
    "b = df[df['advertisement_id'] == 'B'][\"action\"]\n",
    "\n",
    "print(\"A_mean = {}\".format(a.mean()))\n",
    "print(\"B_mean = {}\".format(b.mean()))"
   ]
  },
  {
   "cell_type": "markdown",
   "metadata": {},
   "source": [
    "# Naive t-test\n",
    "\n",
    "We will perform first a two side t-test, assuming that the populations have the same variance: "
   ]
  },
  {
   "cell_type": "code",
   "execution_count": 7,
   "metadata": {},
   "outputs": [
    {
     "name": "stdout",
     "output_type": "stream",
     "text": [
      "t-statistic: -3.2211732138019786\n",
      "p-value: 0.0012971905467125246\n"
     ]
    }
   ],
   "source": [
    "t, p = stats.ttest_ind(a, b)\n",
    "print(\"t-statistic: {}\".format(t))\n",
    "print(\"p-value: {}\".format(p))\n",
    "\n"
   ]
  },
  {
   "cell_type": "markdown",
   "metadata": {},
   "source": [
    "According with this values, at a level of significance $\\alpha = 0.05$, we should reject the null hypothesis because p < 0.05 which means that there is a high probability that the version A or version B have different Click-through rates."
   ]
  },
  {
   "cell_type": "markdown",
   "metadata": {},
   "source": [
    "# Welch's t-test\n",
    "\n",
    "Here we are under the hypothesis of different variances between the two groups."
   ]
  },
  {
   "cell_type": "code",
   "execution_count": 8,
   "metadata": {},
   "outputs": [
    {
     "name": "stdout",
     "output_type": "stream",
     "text": [
      "Welch's t-test:\n",
      "t-statistic: -3.2211732138019786\n",
      "p-value: 0.0012972410374001632\n"
     ]
    }
   ],
   "source": [
    "t, p = stats.ttest_ind(a, b, equal_var=False)\n",
    "\n",
    "print(\"Welch's t-test:\")\n",
    "\n",
    "print(\"t-statistic: {}\".format(t))\n",
    "print(\"p-value: {}\".format(p))"
   ]
  },
  {
   "cell_type": "markdown",
   "metadata": {},
   "source": [
    "With this test, we have the same results as above. So, in this case we would reject the null hypothesis as well."
   ]
  },
  {
   "cell_type": "markdown",
   "metadata": {},
   "source": [
    "**Note**: Scipy always run a two-tailed test according to the documentation. If we want to run a one-tailed test we must divide the p-value obtained by 2. "
   ]
  },
  {
   "cell_type": "markdown",
   "metadata": {},
   "source": [
    "# $\\chi^2$ Test Statistic\n",
    "\n",
    "This is suitable for the kind of distribution we have here, that is for random variables i.i.d. with  Bernoulli distribution. Obviously this statistic follows a $\\chi^2$ distribution. The values in this distribution are always positive, and like t-distribution we have just one parameter which is the number of degrees of freedom.\n",
    "\n",
    "$$\\chi^2 = \\sum_i \\dfrac{(observed_i-expected_i)^2}{expected_i} = \\dfrac{det(T)^2(a+b+c+d)}{(a+b)(c+d)(a+c)(b+d)}$$\n",
    "\n",
    "Where T is the contingency table showing the clicks and no clicks of the groups A and B:\n",
    "\n",
    "* a : \\# clicks in A\n",
    "* b : \\# no_clicks in A\n",
    "* c:  \\# clicks in B\n",
    "* d:  \\# no_clicks in B\n",
    "\n",
    "In general this test works for any categorical variables where we count things. First we will create a contingency table from our data set:"
   ]
  },
  {
   "cell_type": "code",
   "execution_count": 9,
   "metadata": {},
   "outputs": [
    {
     "data": {
      "text/html": [
       "<div>\n",
       "<style scoped>\n",
       "    .dataframe tbody tr th:only-of-type {\n",
       "        vertical-align: middle;\n",
       "    }\n",
       "\n",
       "    .dataframe tbody tr th {\n",
       "        vertical-align: top;\n",
       "    }\n",
       "\n",
       "    .dataframe thead th {\n",
       "        text-align: right;\n",
       "    }\n",
       "</style>\n",
       "<table border=\"1\" class=\"dataframe\">\n",
       "  <thead>\n",
       "    <tr style=\"text-align: right;\">\n",
       "      <th></th>\n",
       "      <th>click</th>\n",
       "      <th>No_click</th>\n",
       "    </tr>\n",
       "    <tr>\n",
       "      <th>advertisement_id</th>\n",
       "      <th></th>\n",
       "      <th></th>\n",
       "    </tr>\n",
       "  </thead>\n",
       "  <tbody>\n",
       "    <tr>\n",
       "      <td>A</td>\n",
       "      <td>304</td>\n",
       "      <td>696</td>\n",
       "    </tr>\n",
       "    <tr>\n",
       "      <td>B</td>\n",
       "      <td>372</td>\n",
       "      <td>628</td>\n",
       "    </tr>\n",
       "  </tbody>\n",
       "</table>\n",
       "</div>"
      ],
      "text/plain": [
       "                  click  No_click\n",
       "advertisement_id                 \n",
       "A                   304       696\n",
       "B                   372       628"
      ]
     },
     "execution_count": 9,
     "metadata": {},
     "output_type": "execute_result"
    }
   ],
   "source": [
    "cont = df.groupby(\"advertisement_id\").sum().reset_index().rename(columns = {\"action\": \"click\"})\n",
    "cont[\"No_click\"] = 1000-cont[\"click\"]\n",
    "cont.set_index(\"advertisement_id\", inplace = True)\n",
    "cont"
   ]
  },
  {
   "cell_type": "markdown",
   "metadata": {},
   "source": [
    "Let us create a function computing the $\\chi^2$-statistic when we have two groups:"
   ]
  },
  {
   "cell_type": "code",
   "execution_count": 10,
   "metadata": {},
   "outputs": [],
   "source": [
    "def chi_new(table):\n",
    "    det = np.linalg.det(table)\n",
    "    traces = np.sum(table)\n",
    "    den = T[0].sum() * T[1].sum() * T[:,0].sum()*T[:,1].sum()\n",
    "    return det**2 * traces/den"
   ]
  },
  {
   "cell_type": "markdown",
   "metadata": {},
   "source": [
    "Also, we can calculate the p-value which is again the probability of obtaining a real change, i.e. the probability that our observations had an extreme $\\chi^2$-value, i.e. far away from expected so $\\chi^2$ is large and therefore, $p = 1-CDF(\\chi^2)$ is a small number."
   ]
  },
  {
   "cell_type": "code",
   "execution_count": 11,
   "metadata": {},
   "outputs": [],
   "source": [
    "a = np.array(cont.loc[\"A\"])\n",
    "b = np.array(cont.loc[\"B\"])\n",
    "#contingency matrix\n",
    "T= np.array([a,b])"
   ]
  },
  {
   "cell_type": "code",
   "execution_count": 12,
   "metadata": {},
   "outputs": [
    {
     "name": "stdout",
     "output_type": "stream",
     "text": [
      "chi^2 = 10.33268381629988\n",
      "p-value = 0.0013069502732125926\n"
     ]
    }
   ],
   "source": [
    "print(\"chi^2 = {}\".format(chi_new(T)))\n",
    "print(\"p-value = {}\".format(1-chi2.cdf(x=chi_new(T), df=1)))\n"
   ]
  },
  {
   "cell_type": "markdown",
   "metadata": {},
   "source": [
    "From this, at significance level $\\alpha = 0.05$, since $p<\\alpha$, we have that there is a high probability that the two ads have significantly different CTR.\n",
    "\n",
    "We can also run the same analysis using in-built functions in scipy:"
   ]
  },
  {
   "cell_type": "code",
   "execution_count": 13,
   "metadata": {},
   "outputs": [
    {
     "name": "stdout",
     "output_type": "stream",
     "text": [
      "Chi^2 statistic = 10.332683816299898\n",
      "p-value = 0.0013069502732125406\n",
      "Degrees of freedom = 1\n",
      "Expected values = [338. 662.]\n"
     ]
    }
   ],
   "source": [
    "# In-built function in scipy\n",
    "chi, p, dof, expected = stats.chi2_contingency(cont, correction = False)\n",
    "\n",
    "print(\"Chi^2 statistic = {}\".format(chi))\n",
    "print(\"p-value = {}\".format(p))\n",
    "print(\"Degrees of freedom = {}\".format(dof))\n",
    "print(\"Expected values = {}\".format(expected[0]))"
   ]
  },
  {
   "cell_type": "code",
   "execution_count": 14,
   "metadata": {},
   "outputs": [
    {
     "data": {
      "text/plain": [
       "0.0013069502732125406"
      ]
     },
     "execution_count": 14,
     "metadata": {},
     "output_type": "execute_result"
    }
   ],
   "source": [
    "stats.chi2_contingency(cont, correction = False)[1]"
   ]
  },
  {
   "cell_type": "markdown",
   "metadata": {},
   "source": [
    "**Main conclusions:**  \n",
    "\n",
    "* We reject the null hypothesis after running both tests but the t-test is not suitable in this setting because our random variables (clicks or not clicks) are not normally distributed but Bernoulli distributed. We also could apply the Fisher test in this situation.\n",
    "\n",
    "* The $\\chi^2$-test is also suitable when we are interested in product quantities purchased.\n",
    "\n",
    "* When measuring revenue as conversion, using t-test is a good option because we can assume a normal distribution of our random variable (revenue)."
   ]
  },
  {
   "cell_type": "markdown",
   "metadata": {},
   "source": [
    "# Simulations of data in this setting\n",
    "\n",
    "We can emulate different data for our experiment. Below we construct functions to create data, and plots using "
   ]
  },
  {
   "cell_type": "code",
   "execution_count": 15,
   "metadata": {},
   "outputs": [],
   "source": [
    "class DataGenerator:\n",
    "    def __init__(self, pA, pB):\n",
    "        self.p1 = pA\n",
    "        self.p2 = pB\n",
    "\n",
    "    def next(self):\n",
    "        \"\"\"\n",
    "        Returns the result of whether a person clicks or not in the ad A or B\n",
    "        \"\"\"\n",
    "        clickA = 1 if (np.random.random() < self.p1) else 0\n",
    "        clickB = 1 if (np.random.random() < self.p2) else 0\n",
    "        return clickA, clickB\n",
    "\n",
    "def run_experiment(pA, pB, N):\n",
    "    \"\"\"\n",
    "    pA is the probability of click for group A, and pB the probability of click for group B.\n",
    "    N is the number of iterations.\n",
    "    \"\"\"\n",
    "    data = DataGenerator(pA, pB)\n",
    "    p_values = np.empty(N)\n",
    "    T = np.zeros((2, 2)).astype(np.float32)\n",
    "    for i in range(N):\n",
    "        cA, cB = data.next()\n",
    "        T[0,cA] += 1\n",
    "        T[1,cB] += 1\n",
    "    # ignore the first 10 values\n",
    "        if i < 10:\n",
    "            p_values[i] = None\n",
    "        else:\n",
    "            p_values[i] = stats.chi2_contingency(T, correction = False)[1]\n",
    "\n",
    "    plt.figure(figsize=(10,6))\n",
    "    plt.plot(p_values, color = \"darkblue\")\n",
    "    plt.plot(np.ones(N)*0.05, 'm+')\n",
    "    plt.title(\"Experiment of %s impressions, CTR(A) = %.2f, CTR(B) = %.2f\" % (N, pA, pB))\n",
    "    plt.show()\n"
   ]
  },
  {
   "cell_type": "markdown",
   "metadata": {},
   "source": [
    "We can run the emulation several times and in each one we will find different results:\n",
    "\n",
    "**Case 1:** Below we have that for some time the p-value is greater than 0.05 so in this case our experiment will not reject the null hypothesis. However, after more than 300 iterations, the difference obtained becomes significant so we reject the null hypothesis."
   ]
  },
  {
   "cell_type": "code",
   "execution_count": 16,
   "metadata": {},
   "outputs": [
    {
     "data": {
      "image/png": "[encoded data removed]",
      "text/plain": [
       "<Figure size 720x432 with 1 Axes>"
      ]
     },
     "metadata": {
      "needs_background": "light"
     },
     "output_type": "display_data"
    }
   ],
   "source": [
    "run_experiment(0.304,0.372, 2000)"
   ]
  },
  {
   "cell_type": "markdown",
   "metadata": {},
   "source": [
    "**Case 2:** Our experiment becomes statistically significant after less than 250 iterations! "
   ]
  },
  {
   "cell_type": "code",
   "execution_count": 17,
   "metadata": {},
   "outputs": [
    {
     "data": {
      "image/png": "[encoded data removed]",
      "text/plain": [
       "<Figure size 720x432 with 1 Axes>"
      ]
     },
     "metadata": {
      "needs_background": "light"
     },
     "output_type": "display_data"
    }
   ],
   "source": [
    "run_experiment(0.304,0.372, 2000)"
   ]
  },
  {
   "cell_type": "markdown",
   "metadata": {},
   "source": [
    "**Case 3:** Our experiment is only significant after more than 1000 iterations."
   ]
  },
  {
   "cell_type": "code",
   "execution_count": 18,
   "metadata": {},
   "outputs": [
    {
     "data": {
      "image/png": "[encoded data removed]",
      "text/plain": [
       "<Figure size 720x432 with 1 Axes>"
      ]
     },
     "metadata": {
      "needs_background": "light"
     },
     "output_type": "display_data"
    }
   ],
   "source": [
    "run_experiment(0.304,0.372, 2000)"
   ]
  },
  {
   "cell_type": "markdown",
   "metadata": {},
   "source": [
    "**Case 4:**  The experiment becomes insignificant, significant, insignificant and then significant after aproximately 900 iterations."
   ]
  },
  {
   "cell_type": "code",
   "execution_count": 19,
   "metadata": {},
   "outputs": [
    {
     "data": {
      "image/png": "[encoded data removed]",
      "text/plain": [
       "<Figure size 720x432 with 1 Axes>"
      ]
     },
     "metadata": {
      "needs_background": "light"
     },
     "output_type": "display_data"
    }
   ],
   "source": [
    "run_experiment(0.304,0.372, 2000)"
   ]
  },
  {
   "cell_type": "markdown",
   "metadata": {},
   "source": [
    "Remember that the $p$-value should be below the threshold,  $\\alpha$% of the time in order to have significance in an AB-testing."
   ]
  }
 ],
 "metadata": {
  "kernelspec": {
   "display_name": "Python 3",
   "language": "python",
   "name": "python3"
  },
  "language_info": {
   "codemirror_mode": {
    "name": "ipython",
    "version": 3
   },
   "file_extension": ".py",
   "mimetype": "text/x-python",
   "name": "python",
   "nbconvert_exporter": "python",
   "pygments_lexer": "ipython3",
   "version": "3.7.4"
  }
 },
 "nbformat": 4,
 "nbformat_minor": 4
}
